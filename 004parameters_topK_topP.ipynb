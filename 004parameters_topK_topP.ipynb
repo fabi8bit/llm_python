{
 "cells": [
  {
   "cell_type": "code",
   "execution_count": 2,
   "metadata": {},
   "outputs": [],
   "source": [
    "import os"
   ]
  },
  {
   "cell_type": "code",
   "execution_count": 3,
   "metadata": {},
   "outputs": [],
   "source": [
    "os.environ['GOOGLE_APPLICATION_CREDENTIALS'] = '/Users/fabi8bit/Downloads/llms-course-75c6c360bb98.json'"
   ]
  },
  {
   "cell_type": "code",
   "execution_count": 4,
   "metadata": {},
   "outputs": [],
   "source": [
    "from vertexai.language_models import TextGenerationModel, ChatModel"
   ]
  },
  {
   "cell_type": "code",
   "execution_count": 5,
   "metadata": {},
   "outputs": [],
   "source": [
    "model_name = 'text-bison'"
   ]
  },
  {
   "cell_type": "code",
   "execution_count": 6,
   "metadata": {},
   "outputs": [],
   "source": [
    "model = TextGenerationModel.from_pretrained(model_name)"
   ]
  },
  {
   "cell_type": "code",
   "execution_count": 7,
   "metadata": {},
   "outputs": [
    {
     "data": {
      "text/plain": [
       " **Day 1:**\n",
       "\n",
       "* Arrive at Heathrow Airport (LHR) and take the Heathrow Express train to Paddington Station.\n",
       "* Check in to your hotel in the Paddington area.\n",
       "* Take a walk around Hyde Park and visit the Serpentine Gallery.\n",
       "* Have dinner at one of the many restaurants in Paddington.\n",
       "\n",
       "**Day 2:**\n",
       "\n",
       "* Visit the British Museum.\n",
       "* Take a walk through Covent Garden and visit the Royal Opera House.\n",
       "* Have dinner at a restaurant in Covent Garden.\n",
       "\n",
       "**Day 3:**\n",
       "\n",
       "* Visit the Tower of London.\n",
       "* Take a boat trip down the River Thames.\n",
       "* Have dinner at a restaurant on the South Bank of the Thames.\n",
       "\n",
       "**Day 4:**\n",
       "\n",
       "* Visit the National Gallery.\n",
       "* Take a walk through Trafalgar Square and visit the National Portrait Gallery.\n",
       "* Have dinner at a restaurant in Trafalgar Square.\n",
       "\n",
       "**Day 5:**\n",
       "\n",
       "* Visit Buckingham Palace.\n",
       "* Take a walk through St. James's Park and visit the Buckingham Palace Gardens.\n",
       "* Have dinner at a restaurant in St. James's.\n",
       "\n",
       "**Day 6:**\n",
       "\n",
       "* Visit the Houses of Parliament and the Big Ben.\n",
       "* Take a walk along the South Bank of the Thames and visit the London Eye.\n",
       "* Have dinner at a restaurant on the South Bank of the Thames.\n",
       "\n",
       "**Day 7:**\n",
       "\n",
       "* Visit the Natural History Museum.\n",
       "* Take a walk through Kensington Gardens and visit the Kensington Palace.\n",
       "* Have dinner at a restaurant in Kensington."
      ]
     },
     "execution_count": 7,
     "metadata": {},
     "output_type": "execute_result"
    }
   ],
   "source": [
    "# TOP K --> default 40 how many tokens to consider\n",
    "prompt = \"Plan a trip to London\"\n",
    "model.predict(prompt=prompt, max_output_tokens=1024,top_k=1, temperature=1.0)\n"
   ]
  },
  {
   "cell_type": "code",
   "execution_count": 8,
   "metadata": {},
   "outputs": [
    {
     "data": {
      "text/plain": [
       " Day 1:\n",
       "* Arrive at Heathrow Airport (LHR) and take the Heathrow Express train to Paddington Station.\n",
       "* Check in to your hotel in the Paddington area.\n",
       "* Have dinner at a restaurant in Paddington.\n",
       "\n",
       "Day 2:\n",
       "* Visit Buckingham Palace and watch the Changing of the Guard ceremony.\n",
       "* Visit the Houses of Parliament and Big Ben.\n",
       "* Take a walk along the South Bank of the River Thames.\n",
       "* Have dinner at a restaurant in the South Bank area.\n",
       "\n",
       "Day 3:\n",
       "* Visit the British Museum.\n",
       "* Visit the Natural History Museum.\n",
       "* Visit the Science Museum.\n",
       "* Have dinner at a restaurant in the South Kensington area.\n",
       "\n",
       "Day 4:\n",
       "* Visit the Tower of London.\n",
       "* Visit the Tower Bridge.\n",
       "* Take a boat trip on the River Thames.\n",
       "* Have dinner at a restaurant in the Tower Hill area.\n",
       "\n",
       "Day 5:\n",
       "* Visit Westminster Abbey.\n",
       "* Visit St. Paul's Cathedral.\n",
       "* Take a walk through Hyde Park.\n",
       "* Have dinner at a restaurant in the Mayfair area.\n",
       "\n",
       "Day 6:\n",
       "* Visit the Tate Modern art gallery.\n",
       "* Visit the National Gallery.\n",
       "* Visit the British Library.\n",
       "* Have dinner at a restaurant in the Bloomsbury area.\n",
       "\n",
       "Day 7:\n",
       "* Visit the Camden Market.\n",
       "* Visit the Portobello Road Market.\n",
       "* Take a walk through Hampstead Heath.\n",
       "* Have dinner at a restaurant in the Hampstead area.\n",
       "\n",
       "Day 8:\n",
       "* Visit the Greenwich Observatory.\n",
       "* Visit the Cutty Sark ship.\n",
       "* Take a boat trip on the River Thames.\n",
       "* Have dinner at a restaurant in the Greenwich area.\n",
       "\n",
       "Day 9:\n",
       "* Visit the Kew Gardens.\n",
       "* Visit the Richmond Park.\n",
       "* Take a walk along the Thames Path.\n",
       "* Have dinner at a restaurant in the Richmond area.\n",
       "\n",
       "Day 10:\n",
       "* Depart from Heathrow Airport (LHR)."
      ]
     },
     "execution_count": 8,
     "metadata": {},
     "output_type": "execute_result"
    }
   ],
   "source": [
    "# TOP K --> default 40 how many tokens to consider\n",
    "# lowering the temperature doesn't have any effect when the number of tokens\n",
    "# to consider is low\n",
    "# TOP P 0-1 --> default 0.95\n",
    "# TEMPERATURE 0-1 --> default 1.0\n",
    "prompt = \"Plan a trip to London\"\n",
    "model.predict(prompt=prompt, max_output_tokens=1024,top_k=1, temperature=0.1)"
   ]
  },
  {
   "cell_type": "code",
   "execution_count": 9,
   "metadata": {},
   "outputs": [
    {
     "data": {
      "text/plain": [
       " Day 1:\n",
       "* Arrive at Heathrow Airport (LHR) and take the Heathrow Express train to Paddington Station.\n",
       "* Check in to your hotel in the city center.\n",
       "* Take a walk around the city center and visit Buckingham Palace, Trafalgar Square, and the Houses of Parliament.\n",
       "* Have dinner at a traditional British pub.\n",
       "\n",
       "Day 2:\n",
       "* Visit the British Museum and see the Rosetta Stone and the Elgin Marbles.\n",
       "* Take a boat trip down the River Thames.\n",
       "* Visit the Tower of London and see the Crown Jewels.\n",
       "* Have dinner in Chinatown.\n",
       "\n",
       "Day 3:\n",
       "* Visit the National Gallery and see paintings by Leonardo da Vinci, Michelangelo, and Rembrandt.\n",
       "* Take a walk through Hyde Park and visit Kensington Palace.\n",
       "* Have dinner in Notting Hill.\n",
       "\n",
       "Day 4:\n",
       "* Visit the Natural History Museum and see the dinosaurs and the blue whale skeleton.\n",
       "* Take a walk through the Science Museum and see the Apollo 10 command module.\n",
       "* Have dinner in Covent Garden.\n",
       "\n",
       "Day 5:\n",
       "* Visit the Victoria and Albert Museum and see the fashion and design collections.\n",
       "* Take a walk through the Tate Modern and see modern and contemporary art.\n",
       "* Have dinner in Shoreditch.\n",
       "\n",
       "Day 6:\n",
       "* Take a day trip to Stonehenge and see the prehistoric monument.\n",
       "* Visit the Roman Baths in Bath.\n",
       "* Have dinner in Bath.\n",
       "\n",
       "Day 7:\n",
       "* Depart from Heathrow Airport (LHR)."
      ]
     },
     "execution_count": 9,
     "metadata": {},
     "output_type": "execute_result"
    }
   ],
   "source": [
    "# TOP K --> default 40 how many tokens to consider\n",
    "# lowering the temperature doesn't have any effect when the number of tokens\n",
    "# to consider is low\n",
    "# TOP P 0-1 --> default 0.95\n",
    "# TEMPERATURE 0-1 --> default 1.0\n",
    "prompt = \"Plan a trip to London\"\n",
    "model.predict(prompt=prompt, max_output_tokens=1024,top_p=0.05, temperature=0.1)"
   ]
  }
 ],
 "metadata": {
  "kernelspec": {
   "display_name": "base",
   "language": "python",
   "name": "python3"
  },
  "language_info": {
   "codemirror_mode": {
    "name": "ipython",
    "version": 3
   },
   "file_extension": ".py",
   "mimetype": "text/x-python",
   "name": "python",
   "nbconvert_exporter": "python",
   "pygments_lexer": "ipython3",
   "version": "3.9.13"
  }
 },
 "nbformat": 4,
 "nbformat_minor": 2
}
