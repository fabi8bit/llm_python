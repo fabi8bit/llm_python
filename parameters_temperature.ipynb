{
 "cells": [
  {
   "cell_type": "code",
   "execution_count": 2,
   "metadata": {},
   "outputs": [],
   "source": [
    "import os"
   ]
  },
  {
   "cell_type": "code",
   "execution_count": 3,
   "metadata": {},
   "outputs": [],
   "source": [
    "os.environ['GOOGLE_APPLICATION_CREDENTIALS'] = '/Users/fabi8bit/Downloads/llms-course-75c6c360bb98.json'"
   ]
  },
  {
   "cell_type": "code",
   "execution_count": 4,
   "metadata": {},
   "outputs": [],
   "source": [
    "from vertexai.language_models import TextGenerationModel, ChatModel"
   ]
  },
  {
   "cell_type": "code",
   "execution_count": 5,
   "metadata": {},
   "outputs": [],
   "source": [
    "model_name = 'text-bison'"
   ]
  },
  {
   "cell_type": "code",
   "execution_count": 6,
   "metadata": {},
   "outputs": [],
   "source": [
    "model = TextGenerationModel.from_pretrained(model_name)"
   ]
  },
  {
   "cell_type": "code",
   "execution_count": 7,
   "metadata": {},
   "outputs": [],
   "source": [
    "prompt = \"Continue this story: 'I wa walking and then a most peculiar thing happened...'\""
   ]
  },
  {
   "cell_type": "code",
   "execution_count": 8,
   "metadata": {},
   "outputs": [
    {
     "data": {
      "text/plain": [
       " I was walking through the park, enjoying the fresh air and the sunshine. I had been walking for a while, and I was starting to get thirsty. I looked around for a place to buy a drink, but there was nothing in sight. Just as I was about to give up, I saw something out of the corner of my eye. It was a small, white object, and it was floating in the air.\n",
       "\n",
       "I stopped to watch it, and I was amazed by what I saw. The object was slowly moving through the air, and it was changing shape as it moved. It started out as a small, round ball, but then it stretched out into a long, thin line. Then, it started to twist and turn, and it eventually formed into the shape of a human being.\n",
       "\n",
       "I was so shocked that I couldn't move. I just stood there, staring at the figure in front of me. It was a woman, and she was beautiful. She had long, flowing hair, and her skin was as white as snow. She was wearing a long, white dress, and she had a kind smile on her face.\n",
       "\n",
       "The woman floated down to the ground and landed in front of me. She looked up at me and said, \"Hello. My name is Anya.\"\n",
       "\n",
       "I was speechless. I couldn't believe that I was actually talking to a fairy.\n",
       "\n",
       "\"I'm here to help you,\" Anya said. \"You're lost, and I'm here to show you the way.\"\n",
       "\n",
       "I didn't know what to say. I was so grateful to Anya for helping me.\n",
       "\n",
       "\"Thank you,\" I said. \"I don't know what I would have done without you.\"\n",
       "\n",
       "Anya smiled. \"You're welcome,\" she said. \"Now, let me show you the way out of the park.\"\n",
       "\n",
       "Anya led me through the park, and we eventually came to a path.\n",
       "\n",
       "\"This path will take you back to the city,\" Anya said. \"Just follow it, and you'll be there in no time.\"\n",
       "\n",
       "I thanked Anya again, and I started walking down the path. As I walked, I couldn't help but think about what had just happened. I had met a fairy, and she had helped me find my way out of the park. It was an experience that I will never forget."
      ]
     },
     "execution_count": 8,
     "metadata": {},
     "output_type": "execute_result"
    }
   ],
   "source": [
    "model.predict(prompt=prompt,\n",
    "              max_output_tokens=1024,\n",
    "              temperature=0.0)"
   ]
  }
 ],
 "metadata": {
  "kernelspec": {
   "display_name": "base",
   "language": "python",
   "name": "python3"
  },
  "language_info": {
   "codemirror_mode": {
    "name": "ipython",
    "version": 3
   },
   "file_extension": ".py",
   "mimetype": "text/x-python",
   "name": "python",
   "nbconvert_exporter": "python",
   "pygments_lexer": "ipython3",
   "version": "3.9.13"
  }
 },
 "nbformat": 4,
 "nbformat_minor": 2
}
